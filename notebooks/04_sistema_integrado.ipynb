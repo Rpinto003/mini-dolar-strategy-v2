{
 "cells": [
  {
   "cell_type": "markdown",
   "metadata": {},
   "source": [
    "# Sistema Integrado de Trading WDO\n",
    "\n",
    "Este notebook demonstra o funcionamento completo do sistema."
   ]
  },
  {
   "cell_type": "code",
   "execution_count": 1,
   "metadata": {},
   "outputs": [
    {
     "name": "stdout",
     "output_type": "stream",
     "text": [
      "Configuração concluída!\n"
     ]
    }
   ],
   "source": [
    "# Configuração inicial\n",
    "import os\n",
    "import sys\n",
    "from pathlib import Path\n",
    "import pandas as pd\n",
    "import numpy as np\n",
    "from datetime import datetime, timedelta\n",
    "import matplotlib.pyplot as plt\n",
    "import seaborn as sns\n",
    "from dotenv import load_dotenv\n",
    "\n",
    "# Configura caminhos\n",
    "PROJECT_ROOT = Path(os.path.dirname(os.getcwd()))  # Sobe um nível da pasta notebooks\n",
    "if str(PROJECT_ROOT) not in sys.path:\n",
    "    sys.path.append(str(PROJECT_ROOT))\n",
    "\n",
    "# Carrega variáveis de ambiente\n",
    "load_dotenv(dotenv_path=PROJECT_ROOT / '.env')\n",
    "\n",
    "# Configura visualizações\n",
    "try:\n",
    "    plt.style.use('seaborn')\n",
    "except:\n",
    "    plt.style.use('default')\n",
    "    \n",
    "pd.set_option('display.max_columns', None)\n",
    "\n",
    "print('Configuração concluída!')"
   ]
  },
  {
   "cell_type": "code",
   "execution_count": 2,
   "metadata": {},
   "outputs": [
    {
     "name": "stdout",
     "output_type": "stream",
     "text": [
      "Tentando acessar banco em: c:\\Users\\rlcp0\\AI Office\\mini-dolar-strategy-v2\\src\\data\\database\\candles.db\n",
      "Dados carregados: 94538 registros\n",
      "Primeiros registros:\n",
      "                         open      high       low     close  tick_volume  \\\n",
      "time                                                                       \n",
      "2024-03-22 12:57:00  5136.406  5137.435  5134.862  5135.376         1605   \n",
      "2024-04-01 09:00:00  5158.485  5161.051  5157.971  5160.538         2486   \n",
      "2024-04-01 09:01:00  5161.051  5162.591  5157.971  5160.025         4655   \n",
      "2024-04-01 09:02:00  5160.538  5160.538  5157.971  5160.025         1717   \n",
      "2024-04-01 09:03:00  5160.538  5162.078  5158.998  5162.078         1969   \n",
      "\n",
      "                     spread  real_volume  \n",
      "time                                      \n",
      "2024-03-22 12:57:00       1         8314  \n",
      "2024-04-01 09:00:00       1        11091  \n",
      "2024-04-01 09:01:00       1        24795  \n",
      "2024-04-01 09:02:00       1         9498  \n",
      "2024-04-01 09:03:00       1         9934  \n"
     ]
    }
   ],
   "source": [
    "# Carregamento dos dados\n",
    "from src.data.loaders.market_data_loader import MarketDataLoader\n",
    "\n",
    "# Define caminho do banco\n",
    "db_path = PROJECT_ROOT / 'src' / 'data' / 'database' / 'candles.db'\n",
    "print(f'Tentando acessar banco em: {db_path}')\n",
    "\n",
    "# Carrega dados\n",
    "loader = MarketDataLoader(str(db_path))\n",
    "data = loader.load_data()\n",
    "\n",
    "print(f'Dados carregados: {len(data)} registros')\n",
    "print('Primeiros registros:')\n",
    "print(data.head())"
   ]
  },
  {
   "cell_type": "code",
   "execution_count": 3,
   "metadata": {},
   "outputs": [
    {
     "name": "stdout",
     "output_type": "stream",
     "text": [
      "Features criadas:\n",
      "- open\n",
      "- high\n",
      "- low\n",
      "- close\n",
      "- tick_volume\n",
      "- spread\n",
      "- real_volume\n",
      "- returns\n",
      "- returns_volatility\n",
      "- sma_5\n",
      "- sma_5_slope\n",
      "- sma_10\n",
      "- sma_10_slope\n",
      "- sma_20\n",
      "- sma_20_slope\n",
      "- sma_50\n",
      "- sma_50_slope\n",
      "- high_low_range\n",
      "- daily_range\n",
      "- volume_ma\n",
      "- volume_ratio\n",
      "- momentum\n",
      "- acceleration\n",
      "- hour\n",
      "- minute\n",
      "- dayofweek\n",
      "- is_morning\n",
      "- is_afternoon\n",
      "- is_market_open\n",
      "- is_open_hour\n",
      "- is_close_hour\n",
      "- is_lunch_time\n"
     ]
    }
   ],
   "source": [
    "# Preparação das features\n",
    "from src.ml.features.feature_engineering import FeatureEngineering\n",
    "\n",
    "# Cria features técnicas\n",
    "engineer = FeatureEngineering()\n",
    "features = engineer.create_technical_features(data)\n",
    "\n",
    "# Adiciona features temporais\n",
    "features = engineer.create_temporal_features(features)\n",
    "\n",
    "print('Features criadas:')\n",
    "for col in features.columns:\n",
    "    print(f'- {col}')"
   ]
  },
  {
   "cell_type": "code",
   "execution_count": 4,
   "metadata": {},
   "outputs": [
    {
     "name": "stdout",
     "output_type": "stream",
     "text": [
      "Agentes configurados!\n"
     ]
    }
   ],
   "source": [
    "# Configuração dos agentes\n",
    "from src.agents.market_agent import RiskManagementAgent, MarketRegimeAgent, FeatureSelectionAgent\n",
    "from src.agents.agent_coordinator import AgentCoordinator\n",
    "\n",
    "# Inicializa agentes\n",
    "risk_agent = RiskManagementAgent(max_drawdown=-0.05)\n",
    "regime_agent = MarketRegimeAgent(window_size=20)\n",
    "feature_agent = FeatureSelectionAgent(\n",
    "    initial_features=features.columns.tolist()\n",
    ")\n",
    "\n",
    "# Configura coordenador\n",
    "coordinator = AgentCoordinator([\n",
    "    risk_agent,\n",
    "    regime_agent,\n",
    "    feature_agent\n",
    "])\n",
    "\n",
    "print('Agentes configurados!')"
   ]
  }
 ],
 "metadata": {
  "kernelspec": {
   "display_name": "aioffice_env",
   "language": "python",
   "name": "python3"
  },
  "language_info": {
   "codemirror_mode": {
    "name": "ipython",
    "version": 3
   },
   "file_extension": ".py",
   "mimetype": "text/x-python",
   "name": "python",
   "nbconvert_exporter": "python",
   "pygments_lexer": "ipython3",
   "version": "3.12.6"
  }
 },
 "nbformat": 4,
 "nbformat_minor": 4
}
