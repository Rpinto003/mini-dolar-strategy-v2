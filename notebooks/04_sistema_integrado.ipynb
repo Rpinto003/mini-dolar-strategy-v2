{
 "cells": [
  {
   "cell_type": "markdown",
   "metadata": {},
   "source": [
    "# Sistema Integrado de Trading WDO\n",
    "\n",
    "Este notebook demonstra o funcionamento completo do sistema."
   ]
  },
  {
   "cell_type": "code",
   "execution_count": null,
   "metadata": {},
   "source": [
    "# Configuração inicial\n",
    "import os\n",
    "import sys\n",
    "from pathlib import Path\n",
    "import pandas as pd\n",
    "import numpy as np\n",
    "from datetime import datetime, timedelta\n",
    "import matplotlib.pyplot as plt\n",
    "import seaborn as sns\n",
    "from dotenv import load_dotenv\n",
    "\n",
    "# Configura caminhos\n",
    "PROJECT_ROOT = Path(os.path.dirname(os.getcwd()))  # Sobe um nível da pasta notebooks\n",
    "if str(PROJECT_ROOT) not in sys.path:\n",
    "    sys.path.append(str(PROJECT_ROOT))\n",
    "\n",
    "# Carrega variáveis de ambiente\n",
    "load_dotenv(dotenv_path=PROJECT_ROOT / '.env')\n",
    "\n",
    "# Configura visualizações\n",
    "try:\n",
    "    plt.style.use('seaborn')\n",
    "except:\n",
    "    plt.style.use('default')\n",
    "    \n",
    "pd.set_option('display.max_columns', None)\n",
    "\n",
    "print('Configuração concluída!')"
   ]
  },
  {
   "cell_type": "code",
   "execution_count": null,
   "metadata": {},
   "source": [
    "# Carregamento dos dados\n",
    "from src.data.loaders.market_data_loader import MarketDataLoader\n",
    "\n",
    "# Define caminho do banco\n",
    "db_path = PROJECT_ROOT / 'src' / 'data' / 'database' / 'candles.db'\n",
    "print(f'Tentando acessar banco em: {db_path}')\n",
    "\n",
    "# Carrega dados\n",
    "loader = MarketDataLoader(str(db_path))\n",
    "data = loader.load_data()\n",
    "\n",
    "print(f'Dados carregados: {len(data)} registros')\n",
    "print('\nPrimeiros registros:')\n",
    "print(data.head())"
   ]
  },
  {
   "cell_type": "code",
   "execution_count": null,
   "metadata": {},
   "source": [
    "# Preparação das features\n",
    "from src.ml.features.feature_engineering import FeatureEngineering\n",
    "\n",
    "# Cria features técnicas\n",
    "engineer = FeatureEngineering()\n",
    "features = engineer.create_technical_features(data)\n",
    "\n",
    "# Adiciona features temporais\n",
    "features = engineer.create_temporal_features(features)\n",
    "\n",
    "print('Features criadas:')\n",
    "for col in features.columns:\n",
    "    print(f'- {col}')"
   ]
  },
  {
   "cell_type": "code",
   "execution_count": null,
   "metadata": {},
   "source": [
    "# Configuração dos agentes\n",
    "from src.agents.market_agent import RiskManagementAgent, MarketRegimeAgent, FeatureSelectionAgent\n",
    "from src.agents.agent_coordinator import AgentCoordinator\n",
    "\n",
    "# Inicializa agentes\n",
    "risk_agent = RiskManagementAgent(max_drawdown=-0.05)\n",
    "regime_agent = MarketRegimeAgent(window_size=20)\n",
    "feature_agent = FeatureSelectionAgent(\n",
    "    initial_features=features.columns.tolist()\n",
    ")\n",
    "\n",
    "# Configura coordenador\n",
    "coordinator = AgentCoordinator([\n",
    "    risk_agent,\n",
    "    regime_agent,\n",
    "    feature_agent\n",
    "])\n",
    "\n",
    "print('Agentes configurados!')"
   ]
  }
 ],
 "metadata": {
  "kernelspec": {
   "display_name": "Python 3",
   "language": "python",
   "name": "python3"
  }
 },
 "nbformat": 4,
 "nbformat_minor": 4
}