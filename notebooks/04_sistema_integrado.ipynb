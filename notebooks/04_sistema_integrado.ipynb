{
 "cells": [
  {
   "cell_type": "markdown",
   "metadata": {},
   "source": [
    "# Sistema Integrado de Trading WDO\n",
    "\n",
    "Este notebook demonstra o funcionamento completo do sistema, integrando:\n",
    "1. Carregamento e preparação de dados\n",
    "2. Análise técnica e fundamental\n",
    "3. Modelos de ML e ensembles\n",
    "4. Agentes de IA para otimização\n",
    "5. Simulação e avaliação de resultados"
   ]
  },
  {
   "cell_type": "code",
   "execution_count": null,
   "metadata": {},
   "source": [
    "import os",
    "import sys",
    "from pathlib import Path",
    "import pandas as pd",
    "import numpy as np",
    "from datetime import datetime, timedelta",
    "import matplotlib.pyplot as plt",
    "import seaborn as sns",
    "from dotenv import load_dotenv",
    "\n",
    "# Configura caminhos",
    "PROJECT_ROOT = Path(os.getcwd()).parent",
    "if str(PROJECT_ROOT) not in sys.path:",
    "    sys.path.append(str(PROJECT_ROOT))",
    "\n",
    "# Carrega variáveis de ambiente",
    "load_dotenv()",
    "\n",
    "# Configura visualizações",
    "plt.style.use('seaborn')",
    "pd.set_option('display.max_columns', None)",
    "\n",
    "print('Configuração concluída!')"
   ]
  },
  {
   "cell_type": "markdown",
   "metadata": {},
   "source": [
    "## 1. Carregamento e Preparação dos Dados\n",
    "\n",
    "Vamos carregar os dados do WDO e preparar as features."
   ]
  },
  {
   "cell_type": "code",
   "execution_count": null,
   "metadata": {},
   "source": [
    "# Importa módulos necessários",
    "from src.data.market_data_loader import MarketDataLoader",
    "from src.ml.features.feature_engineering import FeatureEngineering",
    "\n",
    "# Carrega dados",
    "loader = MarketDataLoader('src/data/candles.db')",
    "data = loader.load_data()",
    "\n",
    "print(f'Dados carregados: {len(data)} registros')",
    "print('\nPrimeiros registros:')",
    "print(data.head())"
   ]
  },
  {
   "cell_type": "code",
   "execution_count": null,
   "metadata": {},
   "source": [
    "# Prepara features",
    "engineer = FeatureEngineering()",
    "features = engineer.prepare_features(data)",
    "\n",
    "print('\nFeatures criadas:')",
    "for col in features.columns:",
    "    print(f'- {col}')"
   ]
  },
  {
   "cell_type": "markdown",
   "metadata": {},
   "source": [
    "## 2. Configuração dos Agentes\n",
    "\n",
    "Vamos configurar os agentes que auxiliarão na otimização do sistema."
   ]
  },
  {
   "cell_type": "code",
   "execution_count": null,
   "metadata": {},
   "source": [
    "from src.agents.market_agent import RiskManagementAgent, MarketRegimeAgent, FeatureSelectionAgent",
    "from src.agents.agent_coordinator import AgentCoordinator",
    "\n",
    "# Inicializa agentes",
    "risk_agent = RiskManagementAgent(max_drawdown=-0.05)",
    "regime_agent = MarketRegimeAgent(window_size=20)",
    "feature_agent = FeatureSelectionAgent(",
    "    initial_features=features.columns.tolist()",
    ")",
    "\n",
    "# Configura coordenador",
    "coordinator = AgentCoordinator([",
    "    risk_agent,",
    "    regime_agent,",
    "    feature_agent",
    "])"
   ]
  },
  {
   "cell_type": "markdown",
   "metadata": {},
   "source": [
    "## 3. Treinamento dos Modelos\n",
    "\n",
    "Agora vamos treinar os modelos base e o ensemble."
   ]
  },
  {
   "cell_type": "code",
   "execution_count": null,
   "metadata": {},
   "source": [
    "from src.ml.models.lstm_model import LSTMModel",
    "from src.ml.ensembles.stacking_ensemble import StackingEnsemble",
    "from sklearn.model_selection import train_test_split",
    "\n",
    "# Prepara dados para ML",
    "X = features.values",
    "y = np.where(data['close'].pct_change().shift(-1) > 0, 1, 0)[:-1]",
    "\n",
    "# Divide dados",
    "X_train, X_test, y_train, y_test = train_test_split(",
    "    X, y, test_size=0.2, shuffle=False",
    ")",
    "\n",
    "# Treina LSTM",
    "lstm = LSTMModel()",
    "lstm_history = lstm.train(X_train, y_train)",
    "\n",
    "print('Treinamento LSTM concluído')"
   ]
  },
  {
   "cell_type": "code",
   "execution_count": null,
   "metadata": {},
   "source": [
    "# Configura e treina ensemble",
    "from sklearn.ensemble import RandomForestClassifier",
    "from sklearn.linear_model import LogisticRegression",
    "\n",
    "base_models = [",
    "    lstm,",
    "    RandomForestClassifier(n_estimators=100),",
    "    LogisticRegression()",
    "]",
    "\n",
    "ensemble = StackingEnsemble(",
    "    base_models=base_models,",
    "    meta_model=LogisticRegression()",
    ")",
    "\n",
    "ensemble.fit(X_train, y_train)",
    "print('Treinamento do ensemble concluído')"
   ]
  },
  {
   "cell_type": "markdown",
   "metadata": {},
   "source": [
    "## 4. Simulando o Sistema Completo\n",
    "\n",
    "Vamos executar uma simulação do sistema completo."
   ]
  },
  {
   "cell_type": "code",
   "execution_count": null,
   "metadata": {},
   "source": [
    "from src.agents.simulation import AgentSimulator, SimulationConfig",
    "\n",
    "# Configura simulação",
    "config = SimulationConfig(",
    "    duration=100,",
    "    initial_capital=100000,",
    "    risk_levels=[-0.05, -0.03, -0.02],",
    "    volatility_regimes=['low', 'medium', 'high'],",
    "    feature_sets=[features.columns.tolist()]",
    ")",
    "\n",
    "simulator = AgentSimulator(config)",
    "result = simulator.run_simulation()",
    "\n",
    "print('Simulação concluída')"
   ]
  },
  {
   "cell_type": "code",
   "execution_count": null,
   "metadata": {},
   "source": [
    "# Visualiza resultados",
    "simulator.plot_results(result)",
    "\n",
    "print('\nMétricas Finais:')",
    "for metric, value in result.metrics.items():",
    "    print(f'{metric}: {value:.4f}')"
   ]
  },
  {
   "cell_type": "markdown",
   "metadata": {},
   "source": [
    "## 5. Avaliação de Backtest\n",
    "\n",
    "Por fim, vamos avaliar o backtest do sistema."
   ]
  },
  {
   "cell_type": "code",
   "execution_count": null,
   "metadata": {},
   "source": [
    "from src.backtest.monte_carlo import MonteCarloSimulator",
    "\n",
    "# Executa simulações Monte Carlo",
    "simulator_mc = MonteCarloSimulator(n_simulations=1000)",
    "\n",
    "# Simula retornos",
    "returns = data['close'].pct_change().dropna()",
    "simulation_result = simulator_mc.simulate_returns(",
    "    historical_returns=returns,",
    "    initial_capital=100000",
    ")",
    "\n",
    "print('\nResultados Monte Carlo:')",
    "print(f'VaR (95%): {simulation_result.var:.2%}')",
    "print(f'CVaR (95%): {simulation_result.cvar:.2%}')",
    "\n",
    "# Plota resultados",
    "simulator_mc.plot_simulations(simulation_result)"
   ]
  }
 ],
 "metadata": {
  "kernelspec": {
   "display_name": "Python 3",
   "language": "python",
   "name": "python3"
  }
 },
 "nbformat": 4,
 "nbformat_minor": 4
}