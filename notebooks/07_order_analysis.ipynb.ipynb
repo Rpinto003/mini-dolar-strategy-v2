{
 "cells": [
  {
   "cell_type": "markdown",
   "metadata": {},
   "source": [
    "# Análise de Ordens WDO\n",
    "Análise detalhada das ordens geradas pelo modelo otimizado."
   ]
  },
  {
   "cell_type": "code",
   "execution_count": 1,
   "metadata": {},
   "outputs": [],
   "source": [
    "import os\n",
    "import sys\n",
    "from pathlib import Path\n",
    "import pandas as pd\n",
    "import numpy as np\n",
    "import matplotlib.pyplot as plt\n",
    "import seaborn as sns\n",
    "\n",
    "PROJECT_ROOT = Path(os.path.dirname(os.getcwd()))\n",
    "if str(PROJECT_ROOT) not in sys.path:\n",
    "    sys.path.append(str(PROJECT_ROOT))\n",
    "\n",
    "plt.style.use('default')\n",
    "pd.set_option('display.max_columns', None)"
   ]
  },
  {
   "cell_type": "code",
   "execution_count": 2,
   "metadata": {},
   "outputs": [],
   "source": [
    "# Carrega modelo otimizado\n",
    "from src.data.loaders.market_data_loader import MarketDataLoader\n",
    "from src.ml.features.feature_engineering import FeatureEngineering\n",
    "from src.agents.market_agent import RiskManagementAgent, MarketRegimeAgent\n",
    "from src.agents.agent_coordinator import AgentCoordinator\n",
    "\n",
    "# Parâmetros otimizados\n",
    "risk_agent = RiskManagementAgent(\n",
    "    max_drawdown=-0.002793,\n",
    "    max_position_size=2\n",
    ")\n",
    "\n",
    "regime_agent = MarketRegimeAgent(\n",
    "    window_size=25\n",
    ")\n",
    "\n",
    "coordinator = AgentCoordinator([risk_agent, regime_agent])"
   ]
  },
  {
   "cell_type": "code",
   "execution_count": 3,
   "metadata": {},
   "outputs": [],
   "source": [
    "# Função para análise de ordens\n",
    "def analyze_orders(signals, data):\n",
    "    orders = []\n",
    "    position = 0\n",
    "    entry_price = 0\n",
    "    entry_time = None\n",
    "    \n",
    "    for idx, row in data.iterrows():\n",
    "        signal = signals[idx]\n",
    "        \n",
    "        # Fecha posição existente\n",
    "        if position != 0 and signal != position:\n",
    "            pnl = (row['close'] - entry_price) * position\n",
    "            duration = (idx - entry_time).total_seconds() / 3600  # em horas\n",
    "            \n",
    "            orders.append({\n",
    "                'entry_time': entry_time,\n",
    "                'exit_time': idx,\n",
    "                'duration': duration,\n",
    "                'entry_price': entry_price,\n",
    "                'exit_price': row['close'],\n",
    "                'direction': 'LONG' if position > 0 else 'SHORT',\n",
    "                'pnl': pnl,\n",
    "                'pnl_percent': (pnl / entry_price) * 100\n",
    "            })\n",
    "            position = 0\n",
    "        \n",
    "        # Abre nova posição\n",
    "        if position == 0 and signal != 0:\n",
    "            position = signal\n",
    "            entry_price = row['close']\n",
    "            entry_time = idx\n",
    "    \n",
    "    return pd.DataFrame(orders)"
   ]
  },
  {
   "cell_type": "code",
   "execution_count": 7,
   "metadata": {},
   "outputs": [],
   "source": [
    "def analyze_orders(signals, data):\n",
    "    orders = []\n",
    "    position = 0\n",
    "    entry_price = 0\n",
    "    entry_time = None\n",
    "    \n",
    "    # Convertendo sinais para Series com mesmo índice do data\n",
    "    signals = pd.Series(signals, index=data.index)\n",
    "    \n",
    "    for idx, row in data.iterrows():\n",
    "        signal = signals.loc[idx]\n",
    "        \n",
    "        # Fecha posição existente\n",
    "        if position != 0 and signal != position:\n",
    "            pnl = (row['close'] - entry_price) * position\n",
    "            duration = (idx - entry_time).total_seconds() / 3600\n",
    "            \n",
    "            orders.append({\n",
    "                'entry_time': entry_time,\n",
    "                'exit_time': idx,\n",
    "                'duration': duration,\n",
    "                'entry_price': entry_price,\n",
    "                'exit_price': row['close'],\n",
    "                'direction': 'LONG' if position > 0 else 'SHORT',\n",
    "                'pnl': pnl,\n",
    "                'pnl_percent': (pnl / entry_price) * 100\n",
    "            })\n",
    "            position = 0\n",
    "        \n",
    "        # Abre nova posição\n",
    "        if position == 0 and signal != 0:\n",
    "            position = signal\n",
    "            entry_price = row['close']\n",
    "            entry_time = idx\n",
    "    \n",
    "    return pd.DataFrame(orders)"
   ]
  },
  {
   "cell_type": "code",
   "execution_count": null,
   "metadata": {},
   "outputs": [],
   "source": [
    "def get_signals(data, risk_agent, regime_agent):\n",
    "    signals = np.zeros(len(data))\n",
    "    position = 0\n",
    "    \n",
    "    for i in range(1, len(data)):\n",
    "        if data['rsi'].iloc[i] < 30 and position <= 0:\n",
    "            signals[i] = 1\n",
    "        elif data['rsi'].iloc[i] > 70 and position >= 0:\n",
    "            signals[i] = -1\n",
    "            \n",
    "        if position != 0:\n",
    "            ret = (data['close'].iloc[i] - data['close'].iloc[i-1]) / data['close'].iloc[i-1]\n",
    "            if abs(ret) > abs(risk_agent.max_drawdown):\n",
    "                signals[i] = 0\n",
    "                \n",
    "        position = signals[i]\n",
    "    \n",
    "    return signals"
   ]
  },
  {
   "cell_type": "code",
   "execution_count": 12,
   "metadata": {},
   "outputs": [
    {
     "name": "stdout",
     "output_type": "stream",
     "text": [
      "\n",
      "Estatísticas das Ordens:\n",
      "Total de trades: 0\n"
     ]
    },
    {
     "ename": "AttributeError",
     "evalue": "'DataFrame' object has no attribute 'pnl'",
     "output_type": "error",
     "traceback": [
      "\u001b[1;31m---------------------------------------------------------------------------\u001b[0m",
      "\u001b[1;31mAttributeError\u001b[0m                            Traceback (most recent call last)",
      "\u001b[1;32m~\\AppData\\Local\\Temp\\ipykernel_19840\\1661588337.py\u001b[0m in \u001b[0;36m?\u001b[1;34m()\u001b[0m\n\u001b[0;32m      3\u001b[0m \u001b[0morders_df\u001b[0m \u001b[1;33m=\u001b[0m \u001b[0manalyze_orders\u001b[0m\u001b[1;33m(\u001b[0m\u001b[0msignals\u001b[0m\u001b[1;33m,\u001b[0m \u001b[0mdata\u001b[0m\u001b[1;33m)\u001b[0m\u001b[1;33m\u001b[0m\u001b[1;33m\u001b[0m\u001b[0m\n\u001b[0;32m      4\u001b[0m \u001b[1;33m\u001b[0m\u001b[0m\n\u001b[0;32m      5\u001b[0m \u001b[0mprint\u001b[0m\u001b[1;33m(\u001b[0m\u001b[1;34m'\\nEstatísticas das Ordens:'\u001b[0m\u001b[1;33m)\u001b[0m\u001b[1;33m\u001b[0m\u001b[1;33m\u001b[0m\u001b[0m\n\u001b[0;32m      6\u001b[0m \u001b[0mprint\u001b[0m\u001b[1;33m(\u001b[0m\u001b[1;33mf'\u001b[0m\u001b[1;33mTotal de trades: \u001b[0m\u001b[1;33m{\u001b[0m\u001b[0mlen\u001b[0m\u001b[1;33m(\u001b[0m\u001b[0morders_df\u001b[0m\u001b[1;33m)\u001b[0m\u001b[1;33m}\u001b[0m\u001b[1;33m'\u001b[0m\u001b[1;33m)\u001b[0m\u001b[1;33m\u001b[0m\u001b[1;33m\u001b[0m\u001b[0m\n\u001b[1;32m----> 7\u001b[1;33m \u001b[0mprint\u001b[0m\u001b[1;33m(\u001b[0m\u001b[1;33mf'\u001b[0m\u001b[1;33mWin rate: \u001b[0m\u001b[1;33m{\u001b[0m\u001b[1;33m(\u001b[0m\u001b[0morders_df\u001b[0m\u001b[1;33m.\u001b[0m\u001b[0mpnl\u001b[0m \u001b[1;33m>\u001b[0m \u001b[1;36m0\u001b[0m\u001b[1;33m)\u001b[0m\u001b[1;33m.\u001b[0m\u001b[0mmean\u001b[0m\u001b[1;33m(\u001b[0m\u001b[1;33m)\u001b[0m\u001b[1;33m:\u001b[0m\u001b[1;33m.2%\u001b[0m\u001b[1;33m}\u001b[0m\u001b[1;33m'\u001b[0m\u001b[1;33m)\u001b[0m\u001b[1;33m\u001b[0m\u001b[1;33m\u001b[0m\u001b[0m\n\u001b[0m\u001b[0;32m      8\u001b[0m \u001b[0mprint\u001b[0m\u001b[1;33m(\u001b[0m\u001b[1;33mf'\u001b[0m\u001b[1;33mMédia duração (horas): \u001b[0m\u001b[1;33m{\u001b[0m\u001b[0morders_df\u001b[0m\u001b[1;33m.\u001b[0m\u001b[0mduration\u001b[0m\u001b[1;33m.\u001b[0m\u001b[0mmean\u001b[0m\u001b[1;33m(\u001b[0m\u001b[1;33m)\u001b[0m\u001b[1;33m:\u001b[0m\u001b[1;33m.2f\u001b[0m\u001b[1;33m}\u001b[0m\u001b[1;33m'\u001b[0m\u001b[1;33m)\u001b[0m\u001b[1;33m\u001b[0m\u001b[1;33m\u001b[0m\u001b[0m\n\u001b[0;32m      9\u001b[0m \u001b[0mprint\u001b[0m\u001b[1;33m(\u001b[0m\u001b[1;33mf'\u001b[0m\u001b[1;33mPnL médio: R$\u001b[0m\u001b[1;33m{\u001b[0m\u001b[0morders_df\u001b[0m\u001b[1;33m.\u001b[0m\u001b[0mpnl\u001b[0m\u001b[1;33m.\u001b[0m\u001b[0mmean\u001b[0m\u001b[1;33m(\u001b[0m\u001b[1;33m)\u001b[0m\u001b[1;33m:\u001b[0m\u001b[1;33m.2f\u001b[0m\u001b[1;33m}\u001b[0m\u001b[1;33m'\u001b[0m\u001b[1;33m)\u001b[0m\u001b[1;33m\u001b[0m\u001b[1;33m\u001b[0m\u001b[0m\n\u001b[0;32m     10\u001b[0m \u001b[0mprint\u001b[0m\u001b[1;33m(\u001b[0m\u001b[1;33mf'\u001b[0m\u001b[1;33mPnL total: R$\u001b[0m\u001b[1;33m{\u001b[0m\u001b[0morders_df\u001b[0m\u001b[1;33m.\u001b[0m\u001b[0mpnl\u001b[0m\u001b[1;33m.\u001b[0m\u001b[0msum\u001b[0m\u001b[1;33m(\u001b[0m\u001b[1;33m)\u001b[0m\u001b[1;33m:\u001b[0m\u001b[1;33m.2f\u001b[0m\u001b[1;33m}\u001b[0m\u001b[1;33m'\u001b[0m\u001b[1;33m)\u001b[0m\u001b[1;33m\u001b[0m\u001b[1;33m\u001b[0m\u001b[0m\n",
      "\u001b[1;32mc:\\Users\\rlcp0\\AI Office\\aioffice_env\\Lib\\site-packages\\pandas\\core\\generic.py\u001b[0m in \u001b[0;36m?\u001b[1;34m(self, name)\u001b[0m\n\u001b[0;32m   6295\u001b[0m             \u001b[1;32mand\u001b[0m \u001b[0mname\u001b[0m \u001b[1;32mnot\u001b[0m \u001b[1;32min\u001b[0m \u001b[0mself\u001b[0m\u001b[1;33m.\u001b[0m\u001b[0m_accessors\u001b[0m\u001b[1;33m\u001b[0m\u001b[1;33m\u001b[0m\u001b[0m\n\u001b[0;32m   6296\u001b[0m             \u001b[1;32mand\u001b[0m \u001b[0mself\u001b[0m\u001b[1;33m.\u001b[0m\u001b[0m_info_axis\u001b[0m\u001b[1;33m.\u001b[0m\u001b[0m_can_hold_identifiers_and_holds_name\u001b[0m\u001b[1;33m(\u001b[0m\u001b[0mname\u001b[0m\u001b[1;33m)\u001b[0m\u001b[1;33m\u001b[0m\u001b[1;33m\u001b[0m\u001b[0m\n\u001b[0;32m   6297\u001b[0m         \u001b[1;33m)\u001b[0m\u001b[1;33m:\u001b[0m\u001b[1;33m\u001b[0m\u001b[1;33m\u001b[0m\u001b[0m\n\u001b[0;32m   6298\u001b[0m             \u001b[1;32mreturn\u001b[0m \u001b[0mself\u001b[0m\u001b[1;33m[\u001b[0m\u001b[0mname\u001b[0m\u001b[1;33m]\u001b[0m\u001b[1;33m\u001b[0m\u001b[1;33m\u001b[0m\u001b[0m\n\u001b[1;32m-> 6299\u001b[1;33m         \u001b[1;32mreturn\u001b[0m \u001b[0mobject\u001b[0m\u001b[1;33m.\u001b[0m\u001b[0m__getattribute__\u001b[0m\u001b[1;33m(\u001b[0m\u001b[0mself\u001b[0m\u001b[1;33m,\u001b[0m \u001b[0mname\u001b[0m\u001b[1;33m)\u001b[0m\u001b[1;33m\u001b[0m\u001b[1;33m\u001b[0m\u001b[0m\n\u001b[0m",
      "\u001b[1;31mAttributeError\u001b[0m: 'DataFrame' object has no attribute 'pnl'"
     ]
    }
   ],
   "source": [
    "# Gera e analisa ordens\n",
    "signals = get_signals(features, risk_agent, regime_agent)\n",
    "orders_df = analyze_orders(signals, data)\n",
    "\n",
    "print('\\nEstatísticas das Ordens:')\n",
    "print(f'Total de trades: {len(orders_df)}')\n",
    "print(f'Win rate: {(orders_df.pnl > 0).mean():.2%}')\n",
    "print(f'Média duração (horas): {orders_df.duration.mean():.2f}')\n",
    "print(f'PnL médio: R${orders_df.pnl.mean():.2f}')\n",
    "print(f'PnL total: R${orders_df.pnl.sum():.2f}')\n",
    "\n",
    "# Análise por direção\n",
    "direction_stats = orders_df.groupby('direction').agg({\n",
    "    'pnl': ['count', 'mean', 'sum'],\n",
    "    'duration': 'mean',\n",
    "    'pnl_percent': 'mean'\n",
    "}).round(2)\n",
    "\n",
    "print('\\nEstatísticas por Direção:')\n",
    "print(direction_stats)"
   ]
  },
  {
   "cell_type": "code",
   "execution_count": null,
   "metadata": {},
   "outputs": [],
   "source": [
    "# Visualizações\n",
    "plt.figure(figsize=(15, 5))\n",
    "\n",
    "# PnL acumulado\n",
    "plt.subplot(1, 2, 1)\n",
    "plt.plot(orders_df.pnl.cumsum())\n",
    "plt.title('PnL Acumulado')\n",
    "plt.grid(True)\n",
    "\n",
    "# Distribuição de retornos\n",
    "plt.subplot(1, 2, 2)\n",
    "sns.histplot(orders_df.pnl_percent, bins=50)\n",
    "plt.title('Distribuição dos Retornos (%)')\n",
    "plt.grid(True)\n",
    "\n",
    "plt.tight_layout()\n",
    "plt.show()"
   ]
  }
 ],
 "metadata": {
  "kernelspec": {
   "display_name": "aioffice_env",
   "language": "python",
   "name": "python3"
  },
  "language_info": {
   "codemirror_mode": {
    "name": "ipython",
    "version": 3
   },
   "file_extension": ".py",
   "mimetype": "text/x-python",
   "name": "python",
   "nbconvert_exporter": "python",
   "pygments_lexer": "ipython3",
   "version": "3.12.6"
  }
 },
 "nbformat": 4,
 "nbformat_minor": 4
}
