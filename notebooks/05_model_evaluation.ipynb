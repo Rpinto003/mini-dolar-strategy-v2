{
 "cells": [
  {
   "cell_type": "markdown",
   "metadata": {},
   "source": [
    "# Avaliação do Modelo WDO\n",
    "Avaliação completa do modelo com backtest, métricas de performance e análise de risco."
   ]
  },
  {
   "cell_type": "code",
   "execution_count": null,
   "metadata": {},
   "source": [
    "import os\n",
    "import sys\n",
    "from pathlib import Path\n",
    "import pandas as pd\n",
    "import numpy as np\n",
    "import matplotlib.pyplot as plt\n",
    "import seaborn as sns\n",
    "\n",
    "PROJECT_ROOT = Path(os.path.dirname(os.getcwd()))\n",
    "if str(PROJECT_ROOT) not in sys.path:\n",
    "    sys.path.append(str(PROJECT_ROOT))\n",
    "\n",
    "# Configura visualizações\n",
    "plt.style.use('seaborn')\n",
    "pd.set_option('display.max_columns', None)"
   ]
  },
  {
   "cell_type": "markdown",
   "metadata": {},
   "source": [
    "## 1. Carrega Dados e Modelo"
   ]
  },
  {
   "cell_type": "code",
   "execution_count": null,
   "metadata": {},
   "source": [
    "# Carrega dados\n",
    "from src.data.loaders.market_data_loader import MarketDataLoader\n",
    "\n",
    "db_path = PROJECT_ROOT / 'src' / 'data' / 'database' / 'candles.db'\n",
    "loader = MarketDataLoader(str(db_path))\n",
    "data = loader.load_data()\n",
    "\n",
    "print(f'Período dos dados: {data.index.min()} até {data.index.max()}')"
   ]
  },
  {
   "cell_type": "markdown",
   "metadata": {},
   "source": [
    "## 2. Backtest"
   ]
  },
  {
   "cell_type": "code",
   "execution_count": null,
   "metadata": {},
   "source": [
    "from src.ml.features.feature_engineering import FeatureEngineering\n",
    "from src.agents.market_agent import RiskManagementAgent, MarketRegimeAgent\n",
    "from src.agents.agent_coordinator import AgentCoordinator\n",
    "\n",
    "# Prepara features\n",
    "engineer = FeatureEngineering()\n",
    "features = engineer.create_technical_features(data)\n",
    "features = engineer.create_temporal_features(features)\n",
    "\n",
    "# Configura agentes\n",
    "risk_agent = RiskManagementAgent(max_drawdown=-0.05)\n",
    "regime_agent = MarketRegimeAgent(window_size=20)\n",
    "\n",
    "coordinator = AgentCoordinator([risk_agent, regime_agent])\n",
    "\n",
    "# Prepara dados para backtest\n",
    "test_size = int(len(features) * 0.3)  # 30% para teste\n",
    "train_data = features[:-test_size]\n",
    "test_data = features[-test_size:]\n",
    "\n",
    "print(f'Dados de treino: {len(train_data)} registros')\n",
    "print(f'Dados de teste: {len(test_data)} registros')"
   ]
  },
  {
   "cell_type": "code",
   "execution_count": null,
   "metadata": {},
   "source": [
    "from src.backtest.monte_carlo import MonteCarloSimulator\n",
    "\n",
    "# Executa simulações\n",
    "simulator = MonteCarloSimulator(n_simulations=1000)\n",
    "\n",
    "# Simula com dados de teste\n",
    "returns = test_data['returns'].dropna()\n",
    "simulation = simulator.simulate_returns(\n",
    "    historical_returns=returns,\n",
    "    initial_capital=100000\n",
    ")\n",
    "\n",
    "print('\nResultados da Simulação:')\n",
    "print(f'VaR (95%): {simulation.var:.2%}')\n",
    "print(f'CVaR (95%): {simulation.cvar:.2%}')\n",
    "\n",
    "# Plota resultados\n",
    "simulator.plot_simulations(simulation)"
   ]
  },
  {
   "cell_type": "markdown",
   "metadata": {},
   "source": [
    "## 3. Métricas de Performance"
   ]
  },
  {
   "cell_type": "code",
   "execution_count": null,
   "metadata": {},
   "source": [
    "from src.reporting.summary.performance_summary import PerformanceSummary\n",
    "\n",
    "# Calcula métricas\n",
    "summary = PerformanceSummary()\n",
    "metrics = summary.calculate_metrics(\n",
    "    trades=simulation.trades\n",
    ")\n",
    "\n",
    "print('\nMétricas de Performance:')\n",
    "for metric, value in metrics.items():\n",
    "    if isinstance(value, float):\n",
    "        print(f'{metric}: {value:.2%}')\n",
    "    else:\n",
    "        print(f'{metric}: {value}')"
   ]
  },
  {
   "cell_type": "markdown",
   "metadata": {},
   "source": [
    "## 4. Análise de Risco"
   ]
  },
  {
   "cell_type": "code",
   "execution_count": null,
   "metadata": {},
   "source": [
    "# Calcula drawdown\n",
    "equity = simulation.equity_curves.mean(axis=0)\n",
    "running_max = np.maximum.accumulate(equity)\n",
    "drawdown = (equity - running_max) / running_max * 100\n",
    "\n",
    "plt.figure(figsize=(12, 6))\n",
    "plt.plot(drawdown)\n",
    "plt.title('Drawdown ao Longo do Tempo')\n",
    "plt.xlabel('Dias')\n",
    "plt.ylabel('Drawdown (%)')\n",
    "plt.grid(True)\n",
    "plt.show()\n",
    "\n",
    "print(f'Máximo Drawdown: {drawdown.min():.2f}%')"
   ]
  },
  {
   "cell_type": "markdown",
   "metadata": {},
   "source": [
    "## 5. Análise dos Agentes"
   ]
  },
  {
   "cell_type": "code",
   "execution_count": null,
   "metadata": {},
   "source": [
    "# Coleta insights dos agentes\n",
    "insights = coordinator.get_agent_insights()\n",
    "\n",
    "print('\nInsights dos Agentes:')\n",
    "for agent_name, agent_insights in insights.items():\n",
    "    print(f'\n{agent_name}:')\n",
    "    for metric, value in agent_insights.items():\n",
    "        print(f'- {metric}: {value}')"
   ]
  }
 ],
 "metadata": {
  "kernelspec": {
   "display_name": "Python 3",
   "language": "python",
   "name": "python3"
  }
 },
 "nbformat": 4,
 "nbformat_minor": 4
}